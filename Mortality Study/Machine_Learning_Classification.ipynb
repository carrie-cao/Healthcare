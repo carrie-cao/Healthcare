{
 "cells": [
  {
   "cell_type": "code",
   "execution_count": 17,
   "metadata": {},
   "outputs": [],
   "source": [
    "# Classification Model"
   ]
  },
  {
   "cell_type": "code",
   "execution_count": 18,
   "metadata": {},
   "outputs": [],
   "source": [
    "import numpy as np\n",
    "import utils\n",
    "from sklearn.metrics import *\n",
    "\n",
    "from sklearn.datasets import load_svmlight_file\n",
    "from sklearn.linear_model import LogisticRegression\n",
    "from sklearn.svm import LinearSVC\n",
    "from sklearn.tree import DecisionTreeClassifier\n",
    "from numpy import mean, array\n",
    "import Prediction_ML\n",
    "from sklearn.model_selection import KFold, ShuffleSplit\n",
    "RANDOM_STATE = 545510477\n"
   ]
  },
  {
   "cell_type": "code",
   "execution_count": 19,
   "metadata": {},
   "outputs": [
    {
     "name": "stdout",
     "output_type": "stream",
     "text": [
      "______________________________________________\n",
      "Classifier: Logistic Regression\n",
      "Accuracy: 0.9545454545454546\n",
      "AUC: 0.9613885805894685\n",
      "Precision: 0.8988095238095238\n",
      "Recall: 0.9869281045751634\n",
      "F1-score: 0.9408099688473521\n",
      "______________________________________________\n",
      "\n",
      "______________________________________________\n",
      "Classifier: SVM\n",
      "Accuracy: 0.9940191387559809\n",
      "AUC: 0.9930942587679468\n",
      "Precision: 0.9970238095238095\n",
      "Recall: 0.9882005899705014\n",
      "F1-score: 0.9925925925925925\n",
      "______________________________________________\n",
      "\n",
      "______________________________________________\n",
      "Classifier: Decision Tree\n",
      "Accuracy: 0.7763157894736842\n",
      "AUC: 0.780760014849313\n",
      "Precision: 0.6011904761904762\n",
      "Recall: 0.792156862745098\n",
      "F1-score: 0.6835871404399323\n",
      "______________________________________________\n",
      "\n"
     ]
    }
   ],
   "source": [
    "#input: X_train, Y_train\n",
    "#output: Y_pred\n",
    "def logistic_regression_pred(X_train, Y_train):\n",
    "\t#train a logistic regression classifier using X_train and Y_train. Use this to predict labels of X_train\n",
    "\t#use default params for the classifier\n",
    "    Logistic_Model = LogisticRegression(random_state=RANDOM_STATE).fit(X_train,Y_train)\n",
    "    Logistic_pred = Logistic_Model.predict(X_train)\n",
    "    return Logistic_pred\n",
    "\n",
    "#input: X_train, Y_train\n",
    "#output: Y_pred\n",
    "def svm_pred(X_train, Y_train):\n",
    "\t#train a SVM classifier using X_train and Y_train. Use this to predict labels of X_train\n",
    "\t#use default params for the classifier\n",
    "    SVM_Model = LinearSVC(random_state=RANDOM_STATE).fit(X_train,Y_train)\n",
    "    SVM_pred = SVM_Model.predict(X_train)\n",
    "    return SVM_pred\n",
    "\n",
    "#input: X_train, Y_train\n",
    "#output: Y_pred\n",
    "def decisionTree_pred(X_train, Y_train):\n",
    "\t#train a logistic regression classifier using X_train and Y_train. Use this to predict labels of X_train\n",
    "\t#use max_depth as 5\n",
    "    decisionTree_Model = DecisionTreeClassifier(random_state=RANDOM_STATE, max_depth=5).fit(X_train,Y_train)\n",
    "    decisionTree_pred = decisionTree_Model.predict(X_train)\n",
    "    return decisionTree_pred\n",
    "\n",
    "\n",
    "\n",
    "#output: accuracy, auc, precision, recall, f1-score\n",
    "def classification_metrics(Y_pred, Y_true):\n",
    "    return accuracy_score(Y_pred,Y_true),roc_auc_score(Y_pred,Y_true),precision_score(Y_pred,Y_true),recall_score(Y_pred,Y_true),f1_score(Y_pred,Y_true)\n",
    "\n",
    "#input: Name of classifier, predicted labels, actual labels\n",
    "def display_metrics(classifierName,Y_pred,Y_true):\n",
    "\tprint(\"______________________________________________\")\n",
    "\tprint((\"Classifier: \"+classifierName))\n",
    "\tacc, auc_, precision, recall, f1score = classification_metrics(Y_pred,Y_true)\n",
    "\tprint((\"Accuracy: \"+str(acc)))\n",
    "\tprint((\"AUC: \"+str(auc_)))\n",
    "\tprint((\"Precision: \"+str(precision)))\n",
    "\tprint((\"Recall: \"+str(recall)))\n",
    "\tprint((\"F1-score: \"+str(f1score)))\n",
    "\tprint(\"______________________________________________\")\n",
    "\tprint(\"\")\n",
    "\n",
    "def main():\n",
    "\tX_train, Y_train = utils.get_data_from_svmlight(\"output/features_svmlight.train\")\n",
    "\t\n",
    "\tdisplay_metrics(\"Logistic Regression\",logistic_regression_pred(X_train,Y_train),Y_train)\n",
    "\tdisplay_metrics(\"SVM\",svm_pred(X_train,Y_train),Y_train)\n",
    "\tdisplay_metrics(\"Decision Tree\",decisionTree_pred(X_train,Y_train),Y_train)\n",
    "\t\n",
    "\n",
    "if __name__ == \"__main__\":\n",
    "\tmain()\n",
    "\t"
   ]
  },
  {
   "cell_type": "markdown",
   "metadata": {},
   "source": [
    "# Predictive Modeling"
   ]
  },
  {
   "cell_type": "code",
   "execution_count": 20,
   "metadata": {},
   "outputs": [
    {
     "name": "stdout",
     "output_type": "stream",
     "text": [
      "______________________________________________\n",
      "Classifier: Logistic Regression\n",
      "Accuracy: 0.7380952380952381\n",
      "AUC: 0.7340114953015235\n",
      "Precision: 0.7333333333333333\n",
      "Recall: 0.6804123711340206\n",
      "F1-score: 0.7058823529411765\n",
      "______________________________________________\n",
      "\n",
      "______________________________________________\n",
      "Classifier: SVM\n",
      "Accuracy: 0.7380952380952381\n",
      "AUC: 0.7347802347802348\n",
      "Precision: 0.7444444444444445\n",
      "Recall: 0.6767676767676768\n",
      "F1-score: 0.708994708994709\n",
      "______________________________________________\n",
      "\n",
      "______________________________________________\n",
      "Classifier: Decision Tree\n",
      "Accuracy: 0.6714285714285714\n",
      "AUC: 0.6637839404773408\n",
      "Precision: 0.5555555555555556\n",
      "Recall: 0.6329113924050633\n",
      "F1-score: 0.591715976331361\n",
      "______________________________________________\n",
      "\n"
     ]
    }
   ],
   "source": [
    "#input: X_train, Y_train, X_test\n",
    "#output: Y_pred\n",
    "def logistic_regression_pred(X_train, Y_train, X_test):\n",
    "\t#train a logistic regression classifier using X_train and Y_train. Use this to predict labels of X_train\n",
    "\t#use default params for the classifier\n",
    "    Logistic_Model = LogisticRegression(random_state=RANDOM_STATE).fit(X_train,Y_train)\n",
    "    Logistic_pred = Logistic_Model.predict(X_test)\n",
    "    return Logistic_pred\n",
    "\n",
    "#input: X_train, Y_train, X_test\n",
    "#output: Y_pred\n",
    "def svm_pred(X_train, Y_train, X_test):\n",
    "\t#train a SVM classifier using X_train and Y_train. Use this to predict labels of X_train\n",
    "\t#use default params for the classifier\n",
    "    SVM_Model = LinearSVC(random_state=RANDOM_STATE).fit(X_train,Y_train)\n",
    "    SVM_pred = SVM_Model.predict(X_test)\n",
    "    return SVM_pred\n",
    "\n",
    "#input: X_train, Y_train, X_test\n",
    "#output: Y_pred\n",
    "def decisionTree_pred(X_train, Y_train, X_test):\n",
    "\t#train a logistic regression classifier using X_train and Y_train. Use this to predict labels of X_train\n",
    "\t#use max_depth as 5\n",
    "    decisionTree_Model = DecisionTreeClassifier(random_state=RANDOM_STATE, max_depth=5).fit(X_train,Y_train)\n",
    "    decisionTree_pred = decisionTree_Model.predict(X_test)\n",
    "    return decisionTree_pred\n",
    "\n",
    "\n",
    "#input: Y_pred,Y_true\n",
    "#output: accuracy, auc, precision, recall, f1-score\n",
    "def classification_metrics(Y_pred, Y_true):\n",
    "    return accuracy_score(Y_pred,Y_true),roc_auc_score(Y_pred,Y_true),precision_score(Y_pred,Y_true),recall_score(Y_pred,Y_true),f1_score(Y_pred,Y_true)\n",
    "\n",
    "#input: Name of classifier, predicted labels, actual labels\n",
    "def display_metrics(classifierName,Y_pred,Y_true):\n",
    "\tprint(\"______________________________________________\")\n",
    "\tprint((\"Classifier: \"+classifierName))\n",
    "\tacc, auc_, precision, recall, f1score = classification_metrics(Y_pred,Y_true)\n",
    "\tprint((\"Accuracy: \"+str(acc)))\n",
    "\tprint((\"AUC: \"+str(auc_)))\n",
    "\tprint((\"Precision: \"+str(precision)))\n",
    "\tprint((\"Recall: \"+str(recall)))\n",
    "\tprint((\"F1-score: \"+str(f1score)))\n",
    "\tprint(\"______________________________________________\")\n",
    "\tprint(\"\")\n",
    "\n",
    "def main():\n",
    "\tX_train, Y_train = utils.get_data_from_svmlight(\"output/features_svmlight.train\")\n",
    "\tX_test, Y_test = utils.get_data_from_svmlight(\"data/features_svmlight.validate\")\n",
    "\tdisplay_metrics(\"Logistic Regression\",logistic_regression_pred(X_train,Y_train,X_test),Y_test)\n",
    "\tdisplay_metrics(\"SVM\",svm_pred(X_train,Y_train,X_test),Y_test)\n",
    "\tdisplay_metrics(\"Decision Tree\",decisionTree_pred(X_train,Y_train,X_test),Y_test)\n",
    "\t\n",
    "\n",
    "if __name__ == \"__main__\":\n",
    "\tmain()\n",
    "\t"
   ]
  },
  {
   "cell_type": "markdown",
   "metadata": {},
   "source": [
    "# Cross validation"
   ]
  },
  {
   "cell_type": "code",
   "execution_count": 21,
   "metadata": {},
   "outputs": [],
   "source": [
    "#K-fold Cross validation\n",
    "#input: training data and corresponding labels\n",
    "#output: accuracy, auc\n",
    "def get_acc_auc_kfold(X,Y,k=5):\n",
    "\t#First get the train indices(i) and test indices(j) for each iteration\n",
    "\t#Then train the classifier accordingly\n",
    "\t#Report the mean accuracy and mean auc of all the folds\n",
    "    \n",
    "    KFoldCV = KFold(n_splits = k, random_state = RANDOM_STATE)\n",
    "    ModelFit_KFold = LogisticRegression()\n",
    "    ListAccracy =[]\n",
    "    ListAUCkf =[]\n",
    "    for i,j in KFoldCV.split(X):\n",
    "        k = ModelFit_KFold.fit(X[i],Y[i])\n",
    "        AcuracyScore = accuracy_score(k.predict(X[j]),Y[j])\n",
    "        ListAccracy.append(AcuracyScore)      \n",
    "        AUCscore = roc_auc_score(k.predict(X[j]),Y[j])\n",
    "        ListAUCkf.append(AUCscore)\n",
    "    return mean(AcuracyScore),mean(ListAUCkf)"
   ]
  },
  {
   "cell_type": "code",
   "execution_count": 22,
   "metadata": {},
   "outputs": [],
   "source": [
    "#Randomized K-fold Cross validation\n",
    "#input: training data and corresponding labels\n",
    "#output: accuracy, auc\n",
    "def get_acc_auc_randomisedCV(X,Y,iterNo=5,test_percent=0.2):\n",
    "\t#First get the train indices(i) and test indices(j) for each iteration\n",
    "\t#Then train the classifier accordingly\n",
    "\t#Report the mean accuracy and mean auc of all the iterations\n",
    "    \n",
    "    RKFoldCV = ShuffleSplit(n_splits = iterNo, random_state = RANDOM_STATE, test_size = test_percent)\n",
    "    ModelFit_RKFold = LogisticRegression()\n",
    "    ListAccracy =[]\n",
    "    ListAUCrkf =[]\n",
    "    for i,j in RKFoldCV.split(X):            \n",
    "        k = ModelFit_RKFold.fit(X[i],Y[i])\n",
    "        AcuracyScore = accuracy_score(k.predict(X[j]),Y[j])\n",
    "        ListAccracy.append(AcuracyScore)         \n",
    "        AUCscore = roc_auc_score(k.predict(X[j]),Y[j])\n",
    "        ListAUCrkf.append(AUCscore)\n",
    "    return array(AcuracyScore).mean(),array(ListAUCrkf).mean()\n",
    "    "
   ]
  },
  {
   "cell_type": "markdown",
   "metadata": {},
   "source": [
    "## Accuracy & AUC"
   ]
  },
  {
   "cell_type": "code",
   "execution_count": 23,
   "metadata": {},
   "outputs": [
    {
     "name": "stdout",
     "output_type": "stream",
     "text": [
      "Classifier: Logistic Regression__________\n",
      "Average Accuracy in KFold CV: 0.6646706586826348\n",
      "Average AUC in KFold CV: 0.7116078348698396\n",
      "Average Accuracy in Randomised CV: 0.7142857142857143\n",
      "Average AUC in Randomised CV: 0.7308461500509049\n"
     ]
    },
    {
     "name": "stderr",
     "output_type": "stream",
     "text": [
      "D:\\Program\\Anaconda3\\lib\\site-packages\\sklearn\\model_selection\\_split.py:296: FutureWarning: Setting a random_state has no effect since shuffle is False. This will raise an error in 0.24. You should leave random_state to its default (None), or set shuffle=True.\n",
      "  FutureWarning\n"
     ]
    }
   ],
   "source": [
    "def main():\n",
    "\tX,Y = utils.get_data_from_svmlight(\"output/features_svmlight.train\")\n",
    "\tprint(\"Classifier: Logistic Regression__________\")\n",
    "\tacc_k,auc_k = get_acc_auc_kfold(X,Y)\n",
    "\tprint((\"Average Accuracy in KFold CV: \"+str(acc_k)))\n",
    "\tprint((\"Average AUC in KFold CV: \"+str(auc_k)))\n",
    "\tacc_r,auc_r = get_acc_auc_randomisedCV(X,Y)\n",
    "\tprint((\"Average Accuracy in Randomised CV: \"+str(acc_r)))\n",
    "\tprint((\"Average AUC in Randomised CV: \"+str(auc_r)))\n",
    "\n",
    "if __name__ == \"__main__\":\n",
    "\tmain()"
   ]
  }
 ],
 "metadata": {
  "kernelspec": {
   "display_name": "Python 3",
   "language": "python",
   "name": "python3"
  },
  "language_info": {
   "codemirror_mode": {
    "name": "ipython",
    "version": 3
   },
   "file_extension": ".py",
   "mimetype": "text/x-python",
   "name": "python",
   "nbconvert_exporter": "python",
   "pygments_lexer": "ipython3",
   "version": "3.7.7"
  }
 },
 "nbformat": 4,
 "nbformat_minor": 4
}
