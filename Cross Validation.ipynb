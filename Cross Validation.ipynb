{
 "cells": [
  {
   "cell_type": "code",
   "execution_count": 17,
   "metadata": {},
   "outputs": [],
   "source": [
    "import utils\n",
    "import Prediction_ML\n",
    "from sklearn.model_selection import KFold, ShuffleSplit\n",
    "from sklearn.linear_model import LogisticRegression\n",
    "from numpy import mean, array\n",
    "from sklearn.metrics import *\n",
    "\n",
    "# USE THIS RANDOM STATE FOR ALL OF YOUR CROSS VALIDATION TESTS, OR THE TESTS WILL NEVER PASS\n",
    "RANDOM_STATE = 545510477"
   ]
  },
  {
   "cell_type": "markdown",
   "metadata": {},
   "source": [
    "## K-fold  Cross validation"
   ]
  },
  {
   "cell_type": "code",
   "execution_count": 18,
   "metadata": {},
   "outputs": [],
   "source": [
    "#input: training data and corresponding labels\n",
    "#output: accuracy, auc\n",
    "def get_acc_auc_kfold(X,Y,k=5):\n",
    "\t#First get the train indices(i) and test indices(j) for each iteration\n",
    "\t#Then train the classifier accordingly\n",
    "\t#Report the mean accuracy and mean auc of all the folds\n",
    "    \n",
    "    KFoldCV = KFold(n_splits = k, random_state = RANDOM_STATE)\n",
    "    ModelFit_KFold = LogisticRegression()\n",
    "    ListAccracy =[]\n",
    "    ListAUCkf =[]\n",
    "    for i,j in KFoldCV.split(X):\n",
    "        k = ModelFit_KFold.fit(X[i],Y[i])\n",
    "        AcuracyScore = accuracy_score(k.predict(X[j]),Y[j])\n",
    "        ListAccracy.append(AcuracyScore)      \n",
    "        AUCscore = roc_auc_score(k.predict(X[j]),Y[j])\n",
    "        ListAUCkf.append(AUCscore)\n",
    "    return mean(AcuracyScore),mean(ListAUCkf)"
   ]
  },
  {
   "cell_type": "markdown",
   "metadata": {},
   "source": [
    "## Randomized K-fold  Cross validation"
   ]
  },
  {
   "cell_type": "code",
   "execution_count": 19,
   "metadata": {},
   "outputs": [],
   "source": [
    "#input: training data and corresponding labels\n",
    "#output: accuracy, auc\n",
    "def get_acc_auc_randomisedCV(X,Y,iterNo=5,test_percent=0.2):\n",
    "\t#First get the train indices(i) and test indices(j) for each iteration\n",
    "\t#Then train the classifier accordingly\n",
    "\t#Report the mean accuracy and mean auc of all the iterations\n",
    "    \n",
    "    RKFoldCV = ShuffleSplit(n_splits = iterNo, random_state = RANDOM_STATE, test_size = test_percent)\n",
    "    ModelFit_RKFold = LogisticRegression()\n",
    "    ListAccracy =[]\n",
    "    ListAUCrkf =[]\n",
    "    for i,j in RKFoldCV.split(X):            \n",
    "        k = ModelFit_RKFold.fit(X[i],Y[i])\n",
    "        AcuracyScore = accuracy_score(k.predict(X[j]),Y[j])\n",
    "        ListAccracy.append(AcuracyScore)         \n",
    "        AUCscore = roc_auc_score(k.predict(X[j]),Y[j])\n",
    "        ListAUCrkf.append(AUCscore)\n",
    "    return array(AcuracyScore).mean(),array(ListAUCrkf).mean()\n",
    "    "
   ]
  },
  {
   "cell_type": "code",
   "execution_count": 20,
   "metadata": {},
   "outputs": [
    {
     "name": "stdout",
     "output_type": "stream",
     "text": [
      "Classifier: Logistic Regression__________\n",
      "Average Accuracy in KFold CV: 0.6646706586826348\n",
      "Average AUC in KFold CV: 0.7116078348698396\n",
      "Average Accuracy in Randomised CV: 0.7142857142857143\n",
      "Average AUC in Randomised CV: 0.7308461500509049\n"
     ]
    },
    {
     "name": "stderr",
     "output_type": "stream",
     "text": [
      "D:\\Program\\Anaconda3\\lib\\site-packages\\sklearn\\model_selection\\_split.py:296: FutureWarning: Setting a random_state has no effect since shuffle is False. This will raise an error in 0.24. You should leave random_state to its default (None), or set shuffle=True.\n",
      "  FutureWarning\n"
     ]
    }
   ],
   "source": [
    "def main():\n",
    "\tX,Y = utils.get_data_from_svmlight(\"output/features_svmlight.train\")\n",
    "\tprint(\"Classifier: Logistic Regression__________\")\n",
    "\tacc_k,auc_k = get_acc_auc_kfold(X,Y)\n",
    "\tprint((\"Average Accuracy in KFold CV: \"+str(acc_k)))\n",
    "\tprint((\"Average AUC in KFold CV: \"+str(auc_k)))\n",
    "\tacc_r,auc_r = get_acc_auc_randomisedCV(X,Y)\n",
    "\tprint((\"Average Accuracy in Randomised CV: \"+str(acc_r)))\n",
    "\tprint((\"Average AUC in Randomised CV: \"+str(auc_r)))\n",
    "\n",
    "if __name__ == \"__main__\":\n",
    "\tmain()"
   ]
  },
  {
   "cell_type": "code",
   "execution_count": null,
   "metadata": {},
   "outputs": [],
   "source": []
  }
 ],
 "metadata": {
  "kernelspec": {
   "display_name": "Python 3",
   "language": "python",
   "name": "python3"
  },
  "language_info": {
   "codemirror_mode": {
    "name": "ipython",
    "version": 3
   },
   "file_extension": ".py",
   "mimetype": "text/x-python",
   "name": "python",
   "nbconvert_exporter": "python",
   "pygments_lexer": "ipython3",
   "version": "3.7.7"
  }
 },
 "nbformat": 4,
 "nbformat_minor": 4
}
