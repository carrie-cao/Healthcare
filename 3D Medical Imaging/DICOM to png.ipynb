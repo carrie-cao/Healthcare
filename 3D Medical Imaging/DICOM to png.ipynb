{
 "cells": [
  {
   "cell_type": "markdown",
   "metadata": {},
   "source": [
    "# Save DICOM as a png file "
   ]
  },
  {
   "cell_type": "code",
   "execution_count": 2,
   "metadata": {},
   "outputs": [],
   "source": [
    "import pydicom\n",
    "import numpy as np\n",
    "from PIL import Image\n",
    "import os\n",
    "import matplotlib.pyplot as plt"
   ]
  },
  {
   "cell_type": "code",
   "execution_count": 3,
   "metadata": {},
   "outputs": [
    {
     "name": "stdout",
     "output_type": "stream",
     "text": [
      "Modality: CT\n"
     ]
    }
   ],
   "source": [
    "dcm = pydicom.dcmread(\"instance.dcm\")\n",
    "\n",
    "print(f\"Modality: {dcm.Modality}\")"
   ]
  },
  {
   "cell_type": "code",
   "execution_count": 4,
   "metadata": {},
   "outputs": [
    {
     "name": "stdout",
     "output_type": "stream",
     "text": [
      "min: -3024, max: 3071\n"
     ]
    }
   ],
   "source": [
    "pixels = np.copy(dcm.pixel_array)\n",
    "print(f\"min: {np.min(pixels)}, max: {np.max(pixels)}\")"
   ]
  },
  {
   "cell_type": "code",
   "execution_count": 5,
   "metadata": {},
   "outputs": [
    {
     "data": {
      "text/plain": [
       "<matplotlib.image.AxesImage at 0x15edb7fd5c8>"
      ]
     },
     "execution_count": 5,
     "metadata": {},
     "output_type": "execute_result"
    },
    {
     "data": {
      "image/png": "[encoded data removed]",
      "text/plain": [
       "<Figure size 432x288 with 1 Axes>"
      ]
     },
     "metadata": {
      "needs_background": "light"
     },
     "output_type": "display_data"
    }
   ],
   "source": [
    "wc = 2472\n",
    "ww = 4144\n",
    "\n",
    "hu_min = wc - ww/2\n",
    "hu_max = wc + ww/2\n",
    "\n",
    "pixels[np.where(pixels < hu_min)] = hu_min\n",
    "pixels[np.where(pixels > hu_max)] = hu_max\n",
    "pixels = (pixels - hu_min)/(hu_max-hu_min)\n",
    "\n",
    "plt.imshow(pixels, cmap=\"gray\")"
   ]
  },
  {
   "cell_type": "code",
   "execution_count": 6,
   "metadata": {},
   "outputs": [
    {
     "name": "stdout",
     "output_type": "stream",
     "text": [
      "min: 0.0, max: 0.644546332046332\n"
     ]
    }
   ],
   "source": [
    "print(f\"min: {np.min(pixels)}, max: {np.max(pixels)}\")\n",
    "out = (pixels*0xff).astype(np.uint8)\n",
    "im = Image.fromarray(out, mode=\"L\")\n",
    "im.save(\"out.png\")"
   ]
  },
  {
   "cell_type": "code",
   "execution_count": null,
   "metadata": {},
   "outputs": [],
   "source": []
  }
 ],
 "metadata": {
  "kernelspec": {
   "display_name": "Python 3",
   "language": "python",
   "name": "python3"
  },
  "language_info": {
   "codemirror_mode": {
    "name": "ipython",
    "version": 3
   },
   "file_extension": ".py",
   "mimetype": "text/x-python",
   "name": "python",
   "nbconvert_exporter": "python",
   "pygments_lexer": "ipython3",
   "version": "3.7.6"
  }
 },
 "nbformat": 4,
 "nbformat_minor": 4
}
