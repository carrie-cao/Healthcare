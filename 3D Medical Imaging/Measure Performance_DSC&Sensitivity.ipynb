{
 "cells": [
  {
   "cell_type": "code",
   "execution_count": 3,
   "metadata": {},
   "outputs": [
    {
     "name": "stdout",
     "output_type": "stream",
     "text": [
      "DSC: 0.8868933957589895\n",
      "Sensitivity: 0.872568136009114\n"
     ]
    }
   ],
   "source": [
    "\n",
    "import numpy as np\n",
    "import nibabel as nib\n",
    "\n",
    "if __name__ == \"__main__\":\n",
    "\n",
    "    \n",
    "    # spleen1_label_gt is the ground truth mask\n",
    "    # spleen1_label_auto is the auto-generated one   \n",
    "   \n",
    "    lbl1 = nib.load(\"data/spleen1_label_auto.nii.gz\").get_fdata()\n",
    "    lbl2 = nib.load(\"data/spleen1_label_gt.nii.gz\").get_fdata()\n",
    "    \n",
    "\n",
    "    # Def sensitivity and Dice Similarity Coefficient. \n",
    "  \n",
    "    def dsc3d(a,b):\n",
    "        intersection = np.sum(a*b)\n",
    "        volumes = np.sum(a) + np.sum(b)\n",
    "\n",
    "        if volumes == 0:\n",
    "            return -1\n",
    "\n",
    "        return 2.*float(intersection) / float(volumes)\n",
    "\n",
    "    print(f\"DSC: {dsc3d(lbl1, lbl2)}\")\n",
    "\n",
    "    def sensitivity(gt,pred):\n",
    "        # Sensitivity = TP/(TP+FN)\n",
    "        tp = np.sum(gt[gt==pred])\n",
    "        fn = np.sum(gt[gt!=pred])\n",
    "\n",
    "        if fn+tp == 0:\n",
    "            return -1\n",
    "\n",
    "        return (tp)/(fn+tp)\n",
    "\n",
    "    print(f\"Sensitivity: {sensitivity(lbl1, lbl2)}\")   "
   ]
  }
 ],
 "metadata": {
  "kernelspec": {
   "display_name": "Python 3",
   "language": "python",
   "name": "python3"
  },
  "language_info": {
   "codemirror_mode": {
    "name": "ipython",
    "version": 3
   },
   "file_extension": ".py",
   "mimetype": "text/x-python",
   "name": "python",
   "nbconvert_exporter": "python",
   "pygments_lexer": "ipython3",
   "version": "3.7.6"
  }
 },
 "nbformat": 4,
 "nbformat_minor": 4
}
